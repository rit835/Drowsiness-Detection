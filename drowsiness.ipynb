{
 "cells": [
  {
   "cell_type": "code",
   "execution_count": 1,
   "metadata": {},
   "outputs": [],
   "source": [
    "import cv2\n",
    "import dlib\n",
    "from scipy.spatial import distance as dist\n",
    "from threading import Thread\n",
    "import imutils\n",
    "from imutils import face_utils\n",
    "from imutils.video import FileVideoStream\n",
    "from imutils.video import  WebcamVideoStream"
   ]
  },
  {
   "cell_type": "code",
   "execution_count": 2,
   "metadata": {},
   "outputs": [],
   "source": [
    "def ear(eye):    # eye aspect ratio\n",
    "    vertical1_dist = dist.euclidean(eye[1], eye[5])\n",
    "    vertical2_dist = dist.euclidean(eye[2], eye[4])\n",
    "    horizontal_dist = dist.euclidean(eye[0], eye[3])\n",
    "    aspect_ratio = (vertical1_dist + vertical2_dist) / (2.0 * horizontal_dist)\n",
    "    return aspect_ratio"
   ]
  },
  {
   "cell_type": "code",
   "execution_count": 3,
   "metadata": {},
   "outputs": [],
   "source": [
    "threshold = 0.325\n",
    "counter =  0\n",
    "framenos = 3\n",
    "#blinks = 0"
   ]
  },
  {
   "cell_type": "code",
   "execution_count": 4,
   "metadata": {},
   "outputs": [],
   "source": [
    "predictor_path = 'shape_predictor_68_face_landmarks.dat'\n",
    "predictor = dlib.shape_predictor(predictor_path)\n",
    "detector = dlib.get_frontal_face_detector()"
   ]
  },
  {
   "cell_type": "code",
   "execution_count": 5,
   "metadata": {},
   "outputs": [],
   "source": [
    "(lx,ly) = face_utils.FACIAL_LANDMARKS_IDXS[\"left_eye\"]\n",
    "(rx,ry) = face_utils.FACIAL_LANDMARKS_IDXS[\"right_eye\"]"
   ]
  },
  {
   "cell_type": "code",
   "execution_count": 6,
   "metadata": {},
   "outputs": [],
   "source": [
    "#file = FileVideoStream('happy.mp4').start()\n",
    "file =  WebcamVideoStream(src=0).start()"
   ]
  },
  {
   "cell_type": "code",
   "execution_count": 7,
   "metadata": {},
   "outputs": [
    {
     "name": "stdout",
     "output_type": "stream",
     "text": [
      "480 640\n"
     ]
    }
   ],
   "source": [
    "first_frame = file.read()\n",
    "(iheight,iwidth) = first_frame.shape[:2]\n",
    "print(iheight,iwidth)"
   ]
  },
  {
   "cell_type": "code",
   "execution_count": 8,
   "metadata": {},
   "outputs": [],
   "source": [
    "#fourcc = cv2.VideoWriter_fourcc(*'XVID')\n",
    "#output = cv2.VideoWriter('test_output.mp4',fourcc, 10,(iwidth,iheight))"
   ]
  },
  {
   "cell_type": "code",
   "execution_count": 9,
   "metadata": {},
   "outputs": [],
   "source": [
    "def det_to_bb(det):\n",
    "    x = det.left()\n",
    "    y = det.top()\n",
    "    w = det.right() \n",
    "    h = det.bottom() \n",
    "    return (x, y, w, h)"
   ]
  },
  {
   "cell_type": "code",
   "execution_count": 10,
   "metadata": {},
   "outputs": [],
   "source": [
    "while True:\n",
    "    frame = file.read()\n",
    "    frame = imutils.resize(frame, width=600)\n",
    "    gray = cv2.cvtColor(frame, cv2.COLOR_BGR2GRAY)\n",
    "    detect = detector(gray)\n",
    "    if (len(detect)>0) :\n",
    "        for (i,det) in enumerate(detect):\n",
    "            ishape = predictor(gray,det)\n",
    "            ishape = face_utils.shape_to_np(ishape)\n",
    "            (x, y, w, h) = face_utils.rect_to_bb(det)\n",
    "            cv2.rectangle(frame,(x,y),(x+w,y+h),(0,255,0),3)\n",
    "            leftEye = ishape[lx:ly]\n",
    "            rightEye = ishape[rx:ry]\n",
    "\n",
    "            leftEar = ear(leftEye)\n",
    "            rightEar = ear(rightEye)\n",
    "            avgEar = (leftEar+rightEar)/2\n",
    "            if avgEar < threshold:\n",
    "                counter += 1\n",
    "                if counter >= framenos:\n",
    "                    #blinks += 1\n",
    "            #cv2.putText(frame, \" blinks = {}\".format(blinks),(x,y),cv2.FONT_HERSHEY_SIMPLEX, 0.5, (0, 0, 255), 2)\n",
    "            #if (blinks >=1):\n",
    "                    cv2.putText(frame, \"DROWSY\",(x,y),cv2.FONT_HERSHEY_SIMPLEX, 0.5, (0,0,255), 2)\n",
    "            else:\n",
    "                counter = 0\n",
    "                cv2.putText(frame, \"NOT DRWOSY\",(x,y),cv2.FONT_HERSHEY_SIMPLEX, 0.5, (255, 0, 0), 2)\n",
    "    else:\n",
    "        cv2.putText(frame, \"NO FACE PRESENT\",(20,20),cv2.FONT_HERSHEY_SIMPLEX, 0.5, (0, 0, 255), 2)\n",
    "    cv2.imshow('frame',frame)\n",
    "    frame = cv2.resize(frame,(iwidth,iheight))\n",
    "    #output.write(frame)\n",
    "    key = cv2.waitKey(1)\n",
    "    if key == ord('q'):\n",
    "        file.stop()\n",
    "        break\n",
    "\n",
    "#output.release()\n",
    "file.stream.release()\n",
    "cv2.destroyAllWindows()"
   ]
  }
 ],
 "metadata": {
  "kernelspec": {
   "display_name": "Python 3",
   "language": "python",
   "name": "python3"
  },
  "language_info": {
   "codemirror_mode": {
    "name": "ipython",
    "version": 3
   },
   "file_extension": ".py",
   "mimetype": "text/x-python",
   "name": "python",
   "nbconvert_exporter": "python",
   "pygments_lexer": "ipython3",
   "version": "3.5.6"
  }
 },
 "nbformat": 4,
 "nbformat_minor": 4
}
